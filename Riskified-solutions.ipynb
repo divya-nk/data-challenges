{
 "cells": [
  {
   "cell_type": "code",
   "execution_count": 1,
   "metadata": {},
   "outputs": [],
   "source": [
    "import pandas as pd\n",
    "import numpy as np\n",
    "import matplotlib as mpl\n",
    "import matplotlib.pyplot as plt\n",
    "import seaborn as sns"
   ]
  },
  {
   "cell_type": "code",
   "execution_count": 2,
   "metadata": {},
   "outputs": [
    {
     "name": "stdout",
     "output_type": "stream",
     "text": [
      "(1000, 3)\n"
     ]
    },
    {
     "data": {
      "text/html": [
       "<div>\n",
       "<style scoped>\n",
       "    .dataframe tbody tr th:only-of-type {\n",
       "        vertical-align: middle;\n",
       "    }\n",
       "\n",
       "    .dataframe tbody tr th {\n",
       "        vertical-align: top;\n",
       "    }\n",
       "\n",
       "    .dataframe thead th {\n",
       "        text-align: right;\n",
       "    }\n",
       "</style>\n",
       "<table border=\"1\" class=\"dataframe\">\n",
       "  <thead>\n",
       "    <tr style=\"text-align: right;\">\n",
       "      <th></th>\n",
       "      <th>shape</th>\n",
       "      <th>color</th>\n",
       "      <th>area</th>\n",
       "    </tr>\n",
       "  </thead>\n",
       "  <tbody>\n",
       "    <tr>\n",
       "      <th>0</th>\n",
       "      <td>square</td>\n",
       "      <td>yellow</td>\n",
       "      <td>9409.0</td>\n",
       "    </tr>\n",
       "    <tr>\n",
       "      <th>1</th>\n",
       "      <td>circle</td>\n",
       "      <td>yellow</td>\n",
       "      <td>4071.5</td>\n",
       "    </tr>\n",
       "    <tr>\n",
       "      <th>2</th>\n",
       "      <td>triangle</td>\n",
       "      <td>blue</td>\n",
       "      <td>2028.0</td>\n",
       "    </tr>\n",
       "  </tbody>\n",
       "</table>\n",
       "</div>"
      ],
      "text/plain": [
       "      shape   color    area\n",
       "0    square  yellow  9409.0\n",
       "1    circle  yellow  4071.5\n",
       "2  triangle    blue  2028.0"
      ]
     },
     "execution_count": 2,
     "metadata": {},
     "output_type": "execute_result"
    }
   ],
   "source": [
    "data = pd.read_csv('data.csv')\n",
    "print(data.shape)\n",
    "data.head(3)"
   ]
  },
  {
   "cell_type": "code",
   "execution_count": 3,
   "metadata": {},
   "outputs": [
    {
     "data": {
      "text/html": [
       "<div>\n",
       "<style scoped>\n",
       "    .dataframe tbody tr th:only-of-type {\n",
       "        vertical-align: middle;\n",
       "    }\n",
       "\n",
       "    .dataframe tbody tr th {\n",
       "        vertical-align: top;\n",
       "    }\n",
       "\n",
       "    .dataframe thead th {\n",
       "        text-align: right;\n",
       "    }\n",
       "</style>\n",
       "<table border=\"1\" class=\"dataframe\">\n",
       "  <thead>\n",
       "    <tr style=\"text-align: right;\">\n",
       "      <th></th>\n",
       "      <th>shape</th>\n",
       "      <th>color</th>\n",
       "      <th>area</th>\n",
       "    </tr>\n",
       "  </thead>\n",
       "  <tbody>\n",
       "  </tbody>\n",
       "</table>\n",
       "</div>"
      ],
      "text/plain": [
       "Empty DataFrame\n",
       "Columns: [shape, color, area]\n",
       "Index: []"
      ]
     },
     "execution_count": 3,
     "metadata": {},
     "output_type": "execute_result"
    }
   ],
   "source": [
    "#checking if there are any null or missing values\n",
    "data[data.isnull().any(axis = 1)]"
   ]
  },
  {
   "cell_type": "code",
   "execution_count": 4,
   "metadata": {},
   "outputs": [
    {
     "name": "stdout",
     "output_type": "stream",
     "text": [
      "<class 'pandas.core.frame.DataFrame'>\n",
      "RangeIndex: 1000 entries, 0 to 999\n",
      "Data columns (total 3 columns):\n",
      "shape    1000 non-null object\n",
      "color    1000 non-null object\n",
      "area     1000 non-null float64\n",
      "dtypes: float64(1), object(2)\n",
      "memory usage: 23.5+ KB\n"
     ]
    }
   ],
   "source": [
    "data.info()"
   ]
  },
  {
   "cell_type": "code",
   "execution_count": null,
   "metadata": {},
   "outputs": [],
   "source": [
    "'''\n",
    "1. Draw a boxplot showing the area size distribution for each shape.\n",
    "2. Calculate the mean, max, and standard deviation of the area size of each color.\n",
    "3. What is the average area size of a yellow square?\n",
    "4. Which shape is most likely to be green?\n",
    "'''"
   ]
  },
  {
   "cell_type": "code",
   "execution_count": 5,
   "metadata": {},
   "outputs": [
    {
     "data": {
      "text/plain": [
       "<matplotlib.axes._subplots.AxesSubplot at 0x1d02e2b2f98>"
      ]
     },
     "execution_count": 5,
     "metadata": {},
     "output_type": "execute_result"
    },
    {
     "data": {
      "image/png": "[encoded data removed]",
      "text/plain": [
       "<Figure size 432x288 with 1 Axes>"
      ]
     },
     "metadata": {
      "needs_background": "light"
     },
     "output_type": "display_data"
    }
   ],
   "source": [
    "#1. Draw a boxplot showing the area size distribution for each shape.\n",
    "sns.boxplot(x= 'shape', y ='area', data=data)  "
   ]
  },
  {
   "cell_type": "code",
   "execution_count": 6,
   "metadata": {},
   "outputs": [
    {
     "name": "stdout",
     "output_type": "stream",
     "text": [
      "Descriptive Statistics of shape:  square\n",
      "              area\n",
      "count   477.000000\n",
      "mean   3411.299790\n",
      "std    2948.724746\n",
      "min       1.000000\n",
      "25%     784.000000\n",
      "50%    2500.000000\n",
      "75%    5776.000000\n",
      "max    9801.000000\n",
      "Descriptive Statistics of shape:  circle\n",
      "              area\n",
      "count    120.00000\n",
      "mean   10703.48250\n",
      "std     9244.89754\n",
      "min       28.30000\n",
      "25%     2463.00000\n",
      "50%     7857.15000\n",
      "75%    17320.42500\n",
      "max    31415.90000\n",
      "Descriptive Statistics of shape:  triangle\n",
      "              area\n",
      "count   403.000000\n",
      "mean   2564.967742\n",
      "std    2165.837676\n",
      "min       0.800000\n",
      "25%     546.800000\n",
      "50%    2106.800000\n",
      "75%    4218.800000\n",
      "max    7350.800000\n"
     ]
    }
   ],
   "source": [
    "#2. Calculate the mean, max, and standard deviation of the area size of each color.\n",
    "for shape in data['shape'].unique():\n",
    "    print('Descriptive Statistics of shape: ', shape)\n",
    "    print(data[data['shape'] == shape].describe())"
   ]
  },
  {
   "cell_type": "code",
   "execution_count": 7,
   "metadata": {},
   "outputs": [
    {
     "data": {
      "text/plain": [
       "area    3333.207207\n",
       "dtype: float64"
      ]
     },
     "execution_count": 7,
     "metadata": {},
     "output_type": "execute_result"
    }
   ],
   "source": [
    "#3. What is the average area size of a yellow square?\n",
    "np.mean(data[['area']][(data['shape']=='square') & (data['color']=='yellow')])"
   ]
  },
  {
   "cell_type": "code",
   "execution_count": 8,
   "metadata": {},
   "outputs": [
    {
     "name": "stdout",
     "output_type": "stream",
     "text": [
      "Hence the shape most likely to be green is:  square\n",
      "Count of all shapes being green: {'square': 47, 'circle': 31, 'triangle': 0}\n"
     ]
    }
   ],
   "source": [
    "# 4. Which shape is most likely to be green?\n",
    "\n",
    "#calculate number of each shape being green:\n",
    "d = dict()\n",
    "for shape in data['shape'].unique():\n",
    "    d[shape] = len(data[(data['color']=='green') & (data['shape']== shape)])\n",
    "\n",
    "#the shape with most green objects, will be the most likely:\n",
    "print('Hence the shape most likely to be green is: ', max(d, key=d.get))\n",
    "print('Count of all shapes being green:', d)"
   ]
  },
  {
   "cell_type": "code",
   "execution_count": 9,
   "metadata": {},
   "outputs": [
    {
     "name": "stdout",
     "output_type": "stream",
     "text": [
      "Chance of this object being a square : 0.168\n",
      "Chance of this object being a circle : 0.16\n",
      "Chance of this object being a triangle : 0.672\n"
     ]
    }
   ],
   "source": [
    "#5. Given the fact the the object is red, with an area size larger than 3,000 \n",
    "# what are the chances the object is a square? a triangle? a circle?\n",
    "\n",
    "#Let's filter out objects that are red and with an area > 3000:\n",
    "r3000 = data[(data['color']=='red') & (data['area']>3000)]\n",
    "\n",
    "#now, calculating the chances of these objects being circle, triangle or square:\n",
    "for shape in data['shape'].unique():\n",
    "    print('Chance of this object being a {} : {}'.format(shape, len(r3000[r3000['shape']==shape])/r3000.shape[0] ))\n",
    "    "
   ]
  },
  {
   "cell_type": "code",
   "execution_count": 10,
   "metadata": {
    "scrolled": true
   },
   "outputs": [
    {
     "data": {
      "text/html": [
       "<div>\n",
       "<style scoped>\n",
       "    .dataframe tbody tr th:only-of-type {\n",
       "        vertical-align: middle;\n",
       "    }\n",
       "\n",
       "    .dataframe tbody tr th {\n",
       "        vertical-align: top;\n",
       "    }\n",
       "\n",
       "    .dataframe thead th {\n",
       "        text-align: right;\n",
       "    }\n",
       "</style>\n",
       "<table border=\"1\" class=\"dataframe\">\n",
       "  <thead>\n",
       "    <tr style=\"text-align: right;\">\n",
       "      <th></th>\n",
       "      <th>shape</th>\n",
       "      <th>color</th>\n",
       "      <th>area</th>\n",
       "      <th>side</th>\n",
       "    </tr>\n",
       "  </thead>\n",
       "  <tbody>\n",
       "    <tr>\n",
       "      <th>0</th>\n",
       "      <td>square</td>\n",
       "      <td>yellow</td>\n",
       "      <td>9409.0</td>\n",
       "      <td>97.0</td>\n",
       "    </tr>\n",
       "    <tr>\n",
       "      <th>1</th>\n",
       "      <td>circle</td>\n",
       "      <td>yellow</td>\n",
       "      <td>4071.5</td>\n",
       "      <td>20.0</td>\n",
       "    </tr>\n",
       "    <tr>\n",
       "      <th>2</th>\n",
       "      <td>triangle</td>\n",
       "      <td>blue</td>\n",
       "      <td>2028.0</td>\n",
       "      <td>68.0</td>\n",
       "    </tr>\n",
       "    <tr>\n",
       "      <th>3</th>\n",
       "      <td>square</td>\n",
       "      <td>blue</td>\n",
       "      <td>3025.0</td>\n",
       "      <td>55.0</td>\n",
       "    </tr>\n",
       "    <tr>\n",
       "      <th>4</th>\n",
       "      <td>square</td>\n",
       "      <td>blue</td>\n",
       "      <td>9216.0</td>\n",
       "      <td>96.0</td>\n",
       "    </tr>\n",
       "  </tbody>\n",
       "</table>\n",
       "</div>"
      ],
      "text/plain": [
       "      shape   color    area  side\n",
       "0    square  yellow  9409.0  97.0\n",
       "1    circle  yellow  4071.5  20.0\n",
       "2  triangle    blue  2028.0  68.0\n",
       "3    square    blue  3025.0  55.0\n",
       "4    square    blue  9216.0  96.0"
      ]
     },
     "execution_count": 10,
     "metadata": {},
     "output_type": "execute_result"
    }
   ],
   "source": [
    "'''\n",
    "6. Write a function that calculates the side or radius of an object, \n",
    "depending on the shape and area of the object [for an Equilateral triangle - area = (side ^ 2) * sqrt(3) / 4].\n",
    "\n",
    "7. Add a column to the dataset called \"side\" that shows the size matching the area in each row, \n",
    "round that number to the closest integer (shape side or radios).\n",
    "'''\n",
    "\n",
    "d2 = data.copy()\n",
    "\n",
    "def calc_side(data):\n",
    "    if (data['shape'] == 'square'):\n",
    "        return np.sqrt(data['area'])\n",
    "    elif (data['shape'] == 'circle'):\n",
    "        return np.sqrt(data['area'])/3.14\n",
    "    else:\n",
    "        return np.sqrt(data['area']/(np.sqrt(3)/4))\n",
    "        #Assumption: All triangles are equilateral triangles\n",
    "\n",
    "d2['side'] = round(d2.apply(calc_side, axis=1))\n",
    "d2.head()\n",
    "#d2.apply(f, axis=1)"
   ]
  },
  {
   "cell_type": "code",
   "execution_count": 11,
   "metadata": {},
   "outputs": [
    {
     "data": {
      "text/plain": [
       "<matplotlib.axes._subplots.AxesSubplot at 0x1d02e2a7e10>"
      ]
     },
     "execution_count": 11,
     "metadata": {},
     "output_type": "execute_result"
    },
    {
     "data": {
      "image/png": "[encoded data removed]",
      "text/plain": [
       "<Figure size 432x288 with 1 Axes>"
      ]
     },
     "metadata": {
      "needs_background": "light"
     },
     "output_type": "display_data"
    }
   ],
   "source": [
    "#8. Draw a boxplot showing the side size distribution for each shape - what can you infer from this plot?\n",
    "sns.boxplot(x= 'shape', y ='side', data=d2)  "
   ]
  },
  {
   "cell_type": "code",
   "execution_count": null,
   "metadata": {},
   "outputs": [],
   "source": [
    "# Inference from above plot:\n"
   ]
  },
  {
   "cell_type": "code",
   "execution_count": 12,
   "metadata": {},
   "outputs": [
    {
     "data": {
      "text/plain": [
       "Text(110,8000,'triangle')"
      ]
     },
     "execution_count": 12,
     "metadata": {},
     "output_type": "execute_result"
    },
    {
     "data": {
      "image/png": "[encoded data removed]",
      "text/plain": [
       "<Figure size 432x288 with 1 Axes>"
      ]
     },
     "metadata": {
      "needs_background": "light"
     },
     "output_type": "display_data"
    }
   ],
   "source": [
    "# 9. Make a scatter plot with \"side\" on the x axis, \"area\" on the y axis with a different color for each shape.\n",
    "colors = {'circle': 'blue', 'triangle': 'red', 'square' : 'yellow'}\n",
    "d2.plot(kind = 'scatter', x = 'side', y = 'area', c=d2['shape'].apply(lambda x: colors[x]))\n",
    "plt.annotate('circle', xy=(60, 30000))\n",
    "plt.annotate('square', xy=(80, 12000))\n",
    "plt.annotate('triangle', xy=(110, 8000))"
   ]
  },
  {
   "cell_type": "code",
   "execution_count": 13,
   "metadata": {},
   "outputs": [
    {
     "data": {
      "text/html": [
       "<div>\n",
       "<style scoped>\n",
       "    .dataframe tbody tr th:only-of-type {\n",
       "        vertical-align: middle;\n",
       "    }\n",
       "\n",
       "    .dataframe tbody tr th {\n",
       "        vertical-align: top;\n",
       "    }\n",
       "\n",
       "    .dataframe thead th {\n",
       "        text-align: right;\n",
       "    }\n",
       "</style>\n",
       "<table border=\"1\" class=\"dataframe\">\n",
       "  <thead>\n",
       "    <tr style=\"text-align: right;\">\n",
       "      <th></th>\n",
       "      <th>shape</th>\n",
       "      <th>color</th>\n",
       "      <th>area</th>\n",
       "      <th>side</th>\n",
       "    </tr>\n",
       "  </thead>\n",
       "  <tbody>\n",
       "    <tr>\n",
       "      <th>0</th>\n",
       "      <td>square</td>\n",
       "      <td>yellow</td>\n",
       "      <td>9409.0</td>\n",
       "      <td>97.0</td>\n",
       "    </tr>\n",
       "    <tr>\n",
       "      <th>1</th>\n",
       "      <td>circle</td>\n",
       "      <td>yellow</td>\n",
       "      <td>4071.5</td>\n",
       "      <td>20.0</td>\n",
       "    </tr>\n",
       "    <tr>\n",
       "      <th>2</th>\n",
       "      <td>triangle</td>\n",
       "      <td>blue</td>\n",
       "      <td>2028.0</td>\n",
       "      <td>68.0</td>\n",
       "    </tr>\n",
       "    <tr>\n",
       "      <th>3</th>\n",
       "      <td>square</td>\n",
       "      <td>blue</td>\n",
       "      <td>3025.0</td>\n",
       "      <td>55.0</td>\n",
       "    </tr>\n",
       "    <tr>\n",
       "      <th>4</th>\n",
       "      <td>square</td>\n",
       "      <td>blue</td>\n",
       "      <td>9216.0</td>\n",
       "      <td>96.0</td>\n",
       "    </tr>\n",
       "  </tbody>\n",
       "</table>\n",
       "</div>"
      ],
      "text/plain": [
       "      shape   color    area  side\n",
       "0    square  yellow  9409.0  97.0\n",
       "1    circle  yellow  4071.5  20.0\n",
       "2  triangle    blue  2028.0  68.0\n",
       "3    square    blue  3025.0  55.0\n",
       "4    square    blue  9216.0  96.0"
      ]
     },
     "execution_count": 13,
     "metadata": {},
     "output_type": "execute_result"
    }
   ],
   "source": [
    "d2.head()"
   ]
  },
  {
   "cell_type": "code",
   "execution_count": 28,
   "metadata": {},
   "outputs": [
    {
     "name": "stdout",
     "output_type": "stream",
     "text": [
      "Proportion of red objects within the shape:\n"
     ]
    },
    {
     "data": {
      "text/html": [
       "<div>\n",
       "<style scoped>\n",
       "    .dataframe tbody tr th:only-of-type {\n",
       "        vertical-align: middle;\n",
       "    }\n",
       "\n",
       "    .dataframe tbody tr th {\n",
       "        vertical-align: top;\n",
       "    }\n",
       "\n",
       "    .dataframe thead th {\n",
       "        text-align: right;\n",
       "    }\n",
       "</style>\n",
       "<table border=\"1\" class=\"dataframe\">\n",
       "  <thead>\n",
       "    <tr style=\"text-align: right;\">\n",
       "      <th></th>\n",
       "      <th>shape</th>\n",
       "      <th>proportion_red</th>\n",
       "      <th>tot_shape</th>\n",
       "    </tr>\n",
       "  </thead>\n",
       "  <tbody>\n",
       "    <tr>\n",
       "      <th>0</th>\n",
       "      <td>triangle</td>\n",
       "      <td>0.506203</td>\n",
       "      <td>403</td>\n",
       "    </tr>\n",
       "    <tr>\n",
       "      <th>1</th>\n",
       "      <td>square</td>\n",
       "      <td>0.117400</td>\n",
       "      <td>477</td>\n",
       "    </tr>\n",
       "    <tr>\n",
       "      <th>2</th>\n",
       "      <td>circle</td>\n",
       "      <td>0.250000</td>\n",
       "      <td>120</td>\n",
       "    </tr>\n",
       "  </tbody>\n",
       "</table>\n",
       "</div>"
      ],
      "text/plain": [
       "      shape  proportion_red  tot_shape\n",
       "0  triangle        0.506203        403\n",
       "1    square        0.117400        477\n",
       "2    circle        0.250000        120"
      ]
     },
     "execution_count": 28,
     "metadata": {},
     "output_type": "execute_result"
    }
   ],
   "source": [
    "#10 a. The proportion of red objects within the shape\n",
    "print('Proportion of red objects within the shape:')\n",
    "\n",
    "df = {'shape':[], 'proportion_red': [], 'tot_shape': []}\n",
    "for shape in d2[d2['color']=='red']['shape'].unique():\n",
    "    df['shape'].append(shape)\n",
    "    df['proportion_red'].append(len(d2[(d2['color']=='red') & (d2['shape']==shape)])/len(d2[d2['shape']==shape]))\n",
    "    df['tot_shape'].append(len(d2[d2['shape']==shape]))\n",
    "    \n",
    "df = pd.DataFrame(df)\n",
    "df"
   ]
  },
  {
   "cell_type": "code",
   "execution_count": 23,
   "metadata": {},
   "outputs": [
    {
     "data": {
      "text/plain": [
       "array(['triangle', 'square', 'circle'], dtype=object)"
      ]
     },
     "execution_count": 23,
     "metadata": {},
     "output_type": "execute_result"
    }
   ],
   "source": [
    "d2[d2['color']=='red']['shape'].unique()"
   ]
  },
  {
   "cell_type": "code",
   "execution_count": null,
   "metadata": {},
   "outputs": [],
   "source": [
    "'''\n",
    "10. Create a dataframe, table or list that show for each shape:\n",
    "          a. The proportion of red objects within the shape\n",
    "          b. The proportion of blue area out of the shape's total area \n",
    "          (sum of square inch blue area of the shape over sum of all shape size).\n",
    "11. Create a function that calculates 10. b. for a given shape and color.\n",
    "\n",
    "'''"
   ]
  },
  {
   "cell_type": "code",
   "execution_count": 24,
   "metadata": {},
   "outputs": [
    {
     "ename": "AttributeError",
     "evalue": "'numpy.ndarray' object has no attribute 'ennumerate'",
     "output_type": "error",
     "traceback": [
      "\u001b[1;31m---------------------------------------------------------------------------\u001b[0m",
      "\u001b[1;31mAttributeError\u001b[0m                            Traceback (most recent call last)",
      "\u001b[1;32m<ipython-input-24-e37fba19117e>\u001b[0m in \u001b[0;36m<module>\u001b[1;34m\u001b[0m\n\u001b[1;32m----> 1\u001b[1;33m \u001b[1;32mfor\u001b[0m \u001b[0mi\u001b[0m\u001b[1;33m,\u001b[0m \u001b[0mshape\u001b[0m \u001b[1;32min\u001b[0m \u001b[0md2\u001b[0m\u001b[1;33m[\u001b[0m\u001b[0md2\u001b[0m\u001b[1;33m[\u001b[0m\u001b[1;34m'color'\u001b[0m\u001b[1;33m]\u001b[0m\u001b[1;33m==\u001b[0m\u001b[1;34m'red'\u001b[0m\u001b[1;33m]\u001b[0m\u001b[1;33m[\u001b[0m\u001b[1;34m'shape'\u001b[0m\u001b[1;33m]\u001b[0m\u001b[1;33m.\u001b[0m\u001b[0munique\u001b[0m\u001b[1;33m(\u001b[0m\u001b[1;33m)\u001b[0m\u001b[1;33m.\u001b[0m\u001b[0mennumerate\u001b[0m\u001b[1;33m(\u001b[0m\u001b[1;33m)\u001b[0m\u001b[1;33m:\u001b[0m\u001b[1;33m\u001b[0m\u001b[1;33m\u001b[0m\u001b[0m\n\u001b[0m\u001b[0;32m      2\u001b[0m     \u001b[0mprint\u001b[0m\u001b[1;33m(\u001b[0m\u001b[0mi\u001b[0m\u001b[1;33m,\u001b[0m \u001b[0mshape\u001b[0m\u001b[1;33m)\u001b[0m\u001b[1;33m\u001b[0m\u001b[1;33m\u001b[0m\u001b[0m\n",
      "\u001b[1;31mAttributeError\u001b[0m: 'numpy.ndarray' object has no attribute 'ennumerate'"
     ]
    }
   ],
   "source": [
    "df = {'shape':[], }\n",
    "for shape in d2[d2['color']=='red']['shape'].unique():\n",
    "    df['shape'].append(shape)\n",
    "    "
   ]
  },
  {
   "cell_type": "code",
   "execution_count": null,
   "metadata": {},
   "outputs": [],
   "source": []
  }
 ],
 "metadata": {
  "kernelspec": {
   "display_name": "Python 3",
   "language": "python",
   "name": "python3"
  },
  "language_info": {
   "codemirror_mode": {
    "name": "ipython",
    "version": 3
   },
   "file_extension": ".py",
   "mimetype": "text/x-python",
   "name": "python",
   "nbconvert_exporter": "python",
   "pygments_lexer": "ipython3",
   "version": "3.7.3"
  }
 },
 "nbformat": 4,
 "nbformat_minor": 2
}
