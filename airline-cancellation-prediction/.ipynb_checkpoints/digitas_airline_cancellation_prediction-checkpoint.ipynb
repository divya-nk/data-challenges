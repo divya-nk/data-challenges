{
 "cells": [
  {
   "cell_type": "code",
   "execution_count": 1,
   "metadata": {},
   "outputs": [],
   "source": [
    "import pandas as pd\n",
    "import numpy as np\n",
    "import matplotlib as mpl\n",
    "import matplotlib.pyplot as plt\n",
    "import seaborn as sns\n",
    "from collections import Counter\n",
    "from scipy import stats\n",
    "from sklearn.model_selection import train_test_split\n",
    "from sklearn.ensemble import RandomForestClassifier\n",
    "from sklearn.linear_model import LogisticRegression\n",
    "from sklearn.ensemble import AdaBoostClassifier\n",
    "from sklearn.model_selection import KFold\n",
    "from sklearn.linear_model import LogisticRegressionCV\n",
    "from sklearn.metrics import f1_score\n",
    "from sklearn.metrics import confusion_matrix, classification_report\n",
    "from imblearn.over_sampling import SMOTE"
   ]
  },
  {
   "cell_type": "code",
   "execution_count": 2,
   "metadata": {},
   "outputs": [
    {
     "name": "stdout",
     "output_type": "stream",
     "text": [
      "Shape of file:  (6000, 8)\n"
     ]
    },
    {
     "data": {
      "text/html": [
       "<div>\n",
       "<style scoped>\n",
       "    .dataframe tbody tr th:only-of-type {\n",
       "        vertical-align: middle;\n",
       "    }\n",
       "\n",
       "    .dataframe tbody tr th {\n",
       "        vertical-align: top;\n",
       "    }\n",
       "\n",
       "    .dataframe thead th {\n",
       "        text-align: right;\n",
       "    }\n",
       "</style>\n",
       "<table border=\"1\" class=\"dataframe\">\n",
       "  <thead>\n",
       "    <tr style=\"text-align: right;\">\n",
       "      <th></th>\n",
       "      <th>Canceled</th>\n",
       "      <th>Month</th>\n",
       "      <th>DepartureTime</th>\n",
       "      <th>UniqueCarrier</th>\n",
       "      <th>SchedElapsedTime</th>\n",
       "      <th>ArrDelay</th>\n",
       "      <th>DepDelay</th>\n",
       "      <th>Distance</th>\n",
       "    </tr>\n",
       "  </thead>\n",
       "  <tbody>\n",
       "    <tr>\n",
       "      <th>0</th>\n",
       "      <td>1.0</td>\n",
       "      <td>12</td>\n",
       "      <td>814</td>\n",
       "      <td>UA</td>\n",
       "      <td>134.0</td>\n",
       "      <td>0.0</td>\n",
       "      <td>0</td>\n",
       "      <td>679.0</td>\n",
       "    </tr>\n",
       "    <tr>\n",
       "      <th>1</th>\n",
       "      <td>1.0</td>\n",
       "      <td>12</td>\n",
       "      <td>830</td>\n",
       "      <td>DL</td>\n",
       "      <td>90.0</td>\n",
       "      <td>0.0</td>\n",
       "      <td>0</td>\n",
       "      <td>214.0</td>\n",
       "    </tr>\n",
       "    <tr>\n",
       "      <th>2</th>\n",
       "      <td>1.0</td>\n",
       "      <td>1</td>\n",
       "      <td>1835</td>\n",
       "      <td>UA</td>\n",
       "      <td>213.0</td>\n",
       "      <td>0.0</td>\n",
       "      <td>0</td>\n",
       "      <td>1605.0</td>\n",
       "    </tr>\n",
       "  </tbody>\n",
       "</table>\n",
       "</div>"
      ],
      "text/plain": [
       "   Canceled  Month  DepartureTime UniqueCarrier  SchedElapsedTime  ArrDelay  \\\n",
       "0       1.0     12            814            UA             134.0       0.0   \n",
       "1       1.0     12            830            DL              90.0       0.0   \n",
       "2       1.0      1           1835            UA             213.0       0.0   \n",
       "\n",
       "   DepDelay  Distance  \n",
       "0         0     679.0  \n",
       "1         0     214.0  \n",
       "2         0    1605.0  "
      ]
     },
     "execution_count": 2,
     "metadata": {},
     "output_type": "execute_result"
    }
   ],
   "source": [
    "#Reading dataset into a pandas dataframe:\n",
    "\n",
    "data = pd.read_csv('FlightDelays_Data_3.0.csv')\n",
    "print('Shape of file: ', data.shape)\n",
    "\n",
    "#sneak-peak into the dataset:\n",
    "data.head(3)"
   ]
  },
  {
   "cell_type": "code",
   "execution_count": 3,
   "metadata": {},
   "outputs": [
    {
     "name": "stdout",
     "output_type": "stream",
     "text": [
      "<class 'pandas.core.frame.DataFrame'>\n",
      "RangeIndex: 6000 entries, 0 to 5999\n",
      "Data columns (total 8 columns):\n",
      "Canceled            5999 non-null float64\n",
      "Month               6000 non-null int64\n",
      "DepartureTime       6000 non-null int64\n",
      "UniqueCarrier       6000 non-null object\n",
      "SchedElapsedTime    5998 non-null float64\n",
      "ArrDelay            5999 non-null float64\n",
      "DepDelay            6000 non-null int64\n",
      "Distance            5999 non-null float64\n",
      "dtypes: float64(4), int64(3), object(1)\n",
      "memory usage: 375.1+ KB\n"
     ]
    }
   ],
   "source": [
    "#Check for missing completeness of dataset:\n",
    "data.info()"
   ]
  },
  {
   "cell_type": "code",
   "execution_count": 4,
   "metadata": {},
   "outputs": [
    {
     "data": {
      "text/html": [
       "<div>\n",
       "<style scoped>\n",
       "    .dataframe tbody tr th:only-of-type {\n",
       "        vertical-align: middle;\n",
       "    }\n",
       "\n",
       "    .dataframe tbody tr th {\n",
       "        vertical-align: top;\n",
       "    }\n",
       "\n",
       "    .dataframe thead th {\n",
       "        text-align: right;\n",
       "    }\n",
       "</style>\n",
       "<table border=\"1\" class=\"dataframe\">\n",
       "  <thead>\n",
       "    <tr style=\"text-align: right;\">\n",
       "      <th></th>\n",
       "      <th>Canceled</th>\n",
       "      <th>Month</th>\n",
       "      <th>DepartureTime</th>\n",
       "      <th>UniqueCarrier</th>\n",
       "      <th>SchedElapsedTime</th>\n",
       "      <th>ArrDelay</th>\n",
       "      <th>DepDelay</th>\n",
       "      <th>Distance</th>\n",
       "    </tr>\n",
       "  </thead>\n",
       "  <tbody>\n",
       "    <tr>\n",
       "      <th>189</th>\n",
       "      <td>1.0</td>\n",
       "      <td>12</td>\n",
       "      <td>1415</td>\n",
       "      <td>AA</td>\n",
       "      <td>255.0</td>\n",
       "      <td>0.0</td>\n",
       "      <td>0</td>\n",
       "      <td>NaN</td>\n",
       "    </tr>\n",
       "    <tr>\n",
       "      <th>1205</th>\n",
       "      <td>0.0</td>\n",
       "      <td>4</td>\n",
       "      <td>2225</td>\n",
       "      <td>DL</td>\n",
       "      <td>NaN</td>\n",
       "      <td>-1.0</td>\n",
       "      <td>-1</td>\n",
       "      <td>2586.0</td>\n",
       "    </tr>\n",
       "    <tr>\n",
       "      <th>1558</th>\n",
       "      <td>0.0</td>\n",
       "      <td>1</td>\n",
       "      <td>1325</td>\n",
       "      <td>AA</td>\n",
       "      <td>NaN</td>\n",
       "      <td>-10.0</td>\n",
       "      <td>-2</td>\n",
       "      <td>1235.0</td>\n",
       "    </tr>\n",
       "    <tr>\n",
       "      <th>2542</th>\n",
       "      <td>NaN</td>\n",
       "      <td>6</td>\n",
       "      <td>845</td>\n",
       "      <td>UA</td>\n",
       "      <td>85.0</td>\n",
       "      <td>-5.0</td>\n",
       "      <td>-4</td>\n",
       "      <td>416.0</td>\n",
       "    </tr>\n",
       "    <tr>\n",
       "      <th>3114</th>\n",
       "      <td>0.0</td>\n",
       "      <td>1</td>\n",
       "      <td>1040</td>\n",
       "      <td>UA</td>\n",
       "      <td>204.0</td>\n",
       "      <td>NaN</td>\n",
       "      <td>56</td>\n",
       "      <td>1464.0</td>\n",
       "    </tr>\n",
       "  </tbody>\n",
       "</table>\n",
       "</div>"
      ],
      "text/plain": [
       "      Canceled  Month  DepartureTime UniqueCarrier  SchedElapsedTime  \\\n",
       "189        1.0     12           1415            AA             255.0   \n",
       "1205       0.0      4           2225            DL               NaN   \n",
       "1558       0.0      1           1325            AA               NaN   \n",
       "2542       NaN      6            845            UA              85.0   \n",
       "3114       0.0      1           1040            UA             204.0   \n",
       "\n",
       "      ArrDelay  DepDelay  Distance  \n",
       "189        0.0         0       NaN  \n",
       "1205      -1.0        -1    2586.0  \n",
       "1558     -10.0        -2    1235.0  \n",
       "2542      -5.0        -4     416.0  \n",
       "3114       NaN        56    1464.0  "
      ]
     },
     "execution_count": 4,
     "metadata": {},
     "output_type": "execute_result"
    }
   ],
   "source": [
    "#Looks like we have some missing values:\n",
    "data[data.isnull().any(axis=1)]"
   ]
  },
  {
   "cell_type": "code",
   "execution_count": 5,
   "metadata": {},
   "outputs": [
    {
     "data": {
      "text/plain": [
       "(5995, 8)"
      ]
     },
     "execution_count": 5,
     "metadata": {},
     "output_type": "execute_result"
    }
   ],
   "source": [
    "#as its only 5/6000, I'm removing these records from our dataset\n",
    "data = data[~data.isnull().any(axis=1)]\n",
    "data.shape"
   ]
  },
  {
   "cell_type": "markdown",
   "metadata": {},
   "source": [
    "### Let's do some exploratory analysis on our dataset and do some feature engineering if required"
   ]
  },
  {
   "cell_type": "code",
   "execution_count": 6,
   "metadata": {},
   "outputs": [
    {
     "data": {
      "text/html": [
       "<div>\n",
       "<style scoped>\n",
       "    .dataframe tbody tr th:only-of-type {\n",
       "        vertical-align: middle;\n",
       "    }\n",
       "\n",
       "    .dataframe tbody tr th {\n",
       "        vertical-align: top;\n",
       "    }\n",
       "\n",
       "    .dataframe thead th {\n",
       "        text-align: right;\n",
       "    }\n",
       "</style>\n",
       "<table border=\"1\" class=\"dataframe\">\n",
       "  <thead>\n",
       "    <tr style=\"text-align: right;\">\n",
       "      <th></th>\n",
       "      <th>Canceled</th>\n",
       "      <th>Month</th>\n",
       "      <th>DepartureTime</th>\n",
       "      <th>SchedElapsedTime</th>\n",
       "      <th>ArrDelay</th>\n",
       "      <th>DepDelay</th>\n",
       "      <th>Distance</th>\n",
       "    </tr>\n",
       "  </thead>\n",
       "  <tbody>\n",
       "    <tr>\n",
       "      <th>count</th>\n",
       "      <td>5995.000000</td>\n",
       "      <td>5995.000000</td>\n",
       "      <td>5995.000000</td>\n",
       "      <td>5995.000000</td>\n",
       "      <td>5995.000000</td>\n",
       "      <td>5995.000000</td>\n",
       "      <td>5995.000000</td>\n",
       "    </tr>\n",
       "    <tr>\n",
       "      <th>mean</th>\n",
       "      <td>0.166639</td>\n",
       "      <td>6.221351</td>\n",
       "      <td>1330.433528</td>\n",
       "      <td>161.596997</td>\n",
       "      <td>8.116097</td>\n",
       "      <td>9.148290</td>\n",
       "      <td>990.901084</td>\n",
       "    </tr>\n",
       "    <tr>\n",
       "      <th>std</th>\n",
       "      <td>0.372684</td>\n",
       "      <td>3.435503</td>\n",
       "      <td>459.104885</td>\n",
       "      <td>78.157111</td>\n",
       "      <td>35.774451</td>\n",
       "      <td>31.675451</td>\n",
       "      <td>685.530027</td>\n",
       "    </tr>\n",
       "    <tr>\n",
       "      <th>min</th>\n",
       "      <td>0.000000</td>\n",
       "      <td>1.000000</td>\n",
       "      <td>5.000000</td>\n",
       "      <td>-127.000000</td>\n",
       "      <td>-72.000000</td>\n",
       "      <td>-16.000000</td>\n",
       "      <td>-439.000000</td>\n",
       "    </tr>\n",
       "    <tr>\n",
       "      <th>25%</th>\n",
       "      <td>0.000000</td>\n",
       "      <td>3.000000</td>\n",
       "      <td>930.000000</td>\n",
       "      <td>105.000000</td>\n",
       "      <td>-8.000000</td>\n",
       "      <td>-3.000000</td>\n",
       "      <td>547.000000</td>\n",
       "    </tr>\n",
       "    <tr>\n",
       "      <th>50%</th>\n",
       "      <td>0.000000</td>\n",
       "      <td>6.000000</td>\n",
       "      <td>1325.000000</td>\n",
       "      <td>145.000000</td>\n",
       "      <td>0.000000</td>\n",
       "      <td>0.000000</td>\n",
       "      <td>837.000000</td>\n",
       "    </tr>\n",
       "    <tr>\n",
       "      <th>75%</th>\n",
       "      <td>0.000000</td>\n",
       "      <td>9.000000</td>\n",
       "      <td>1715.000000</td>\n",
       "      <td>200.000000</td>\n",
       "      <td>10.000000</td>\n",
       "      <td>6.000000</td>\n",
       "      <td>1249.000000</td>\n",
       "    </tr>\n",
       "    <tr>\n",
       "      <th>max</th>\n",
       "      <td>1.000000</td>\n",
       "      <td>12.000000</td>\n",
       "      <td>2359.000000</td>\n",
       "      <td>604.000000</td>\n",
       "      <td>410.000000</td>\n",
       "      <td>387.000000</td>\n",
       "      <td>15990.000000</td>\n",
       "    </tr>\n",
       "  </tbody>\n",
       "</table>\n",
       "</div>"
      ],
      "text/plain": [
       "          Canceled        Month  DepartureTime  SchedElapsedTime     ArrDelay  \\\n",
       "count  5995.000000  5995.000000    5995.000000       5995.000000  5995.000000   \n",
       "mean      0.166639     6.221351    1330.433528        161.596997     8.116097   \n",
       "std       0.372684     3.435503     459.104885         78.157111    35.774451   \n",
       "min       0.000000     1.000000       5.000000       -127.000000   -72.000000   \n",
       "25%       0.000000     3.000000     930.000000        105.000000    -8.000000   \n",
       "50%       0.000000     6.000000    1325.000000        145.000000     0.000000   \n",
       "75%       0.000000     9.000000    1715.000000        200.000000    10.000000   \n",
       "max       1.000000    12.000000    2359.000000        604.000000   410.000000   \n",
       "\n",
       "          DepDelay      Distance  \n",
       "count  5995.000000   5995.000000  \n",
       "mean      9.148290    990.901084  \n",
       "std      31.675451    685.530027  \n",
       "min     -16.000000   -439.000000  \n",
       "25%      -3.000000    547.000000  \n",
       "50%       0.000000    837.000000  \n",
       "75%       6.000000   1249.000000  \n",
       "max     387.000000  15990.000000  "
      ]
     },
     "execution_count": 6,
     "metadata": {},
     "output_type": "execute_result"
    }
   ],
   "source": [
    "data.describe()"
   ]
  },
  {
   "cell_type": "markdown",
   "metadata": {},
   "source": [
    "### let's look at the fields one by one:\n",
    "    . Cancelled: binary, to predict (target variable) - looking at the stat description, must be imbalanced\n",
    "    . Month: looking at stat desc, it looks fairly distributed, we'll check in a moment - ordinal variable, no transformation required\n",
    "    . DepartureTime: continuous, could be an important predictor, need to check distribution\n",
    "    . SchedElapsed Time: continuous variable, need to check distribution. Check correlattion to distance - since commonly, more distance will take more flight time\n",
    "    . ArrDelay and DepDelay - continuous vairable. Arrival and Departure delay will be known once the flight takes off. This information will not be available to us, when predicting the flight's going to be cancelled or not. I'm going to drop these variables\n",
    "    . Distance - continuous, looks definitely skewed from the stats\n",
    "    . UniqueCarrier: categorical, need to one-hot encode\n",
    "    \n",
    "    Note: SchedElapsedTime, Distance, ArrDelay and DepDelay have negative values. For ArrDelay and DepDelay, considering flight arrived or departed before the actual time, time can be denoted by negative value. But for SchedElapsedTime and Distance, a negative value doesn't make sense. Let's check that first"
   ]
  },
  {
   "cell_type": "code",
   "execution_count": 7,
   "metadata": {
    "scrolled": true
   },
   "outputs": [
    {
     "data": {
      "text/html": [
       "<div>\n",
       "<style scoped>\n",
       "    .dataframe tbody tr th:only-of-type {\n",
       "        vertical-align: middle;\n",
       "    }\n",
       "\n",
       "    .dataframe tbody tr th {\n",
       "        vertical-align: top;\n",
       "    }\n",
       "\n",
       "    .dataframe thead th {\n",
       "        text-align: right;\n",
       "    }\n",
       "</style>\n",
       "<table border=\"1\" class=\"dataframe\">\n",
       "  <thead>\n",
       "    <tr style=\"text-align: right;\">\n",
       "      <th></th>\n",
       "      <th>Canceled</th>\n",
       "      <th>Month</th>\n",
       "      <th>DepartureTime</th>\n",
       "      <th>UniqueCarrier</th>\n",
       "      <th>SchedElapsedTime</th>\n",
       "      <th>ArrDelay</th>\n",
       "      <th>DepDelay</th>\n",
       "      <th>Distance</th>\n",
       "    </tr>\n",
       "  </thead>\n",
       "  <tbody>\n",
       "    <tr>\n",
       "      <th>67</th>\n",
       "      <td>1.0</td>\n",
       "      <td>5</td>\n",
       "      <td>1540</td>\n",
       "      <td>UA</td>\n",
       "      <td>-127.0</td>\n",
       "      <td>0.0</td>\n",
       "      <td>0</td>\n",
       "      <td>612.0</td>\n",
       "    </tr>\n",
       "    <tr>\n",
       "      <th>106</th>\n",
       "      <td>1.0</td>\n",
       "      <td>3</td>\n",
       "      <td>1915</td>\n",
       "      <td>AA</td>\n",
       "      <td>0.0</td>\n",
       "      <td>0.0</td>\n",
       "      <td>0</td>\n",
       "      <td>224.0</td>\n",
       "    </tr>\n",
       "    <tr>\n",
       "      <th>134</th>\n",
       "      <td>1.0</td>\n",
       "      <td>3</td>\n",
       "      <td>515</td>\n",
       "      <td>DL</td>\n",
       "      <td>105.0</td>\n",
       "      <td>0.0</td>\n",
       "      <td>0</td>\n",
       "      <td>-439.0</td>\n",
       "    </tr>\n",
       "    <tr>\n",
       "      <th>1670</th>\n",
       "      <td>0.0</td>\n",
       "      <td>3</td>\n",
       "      <td>949</td>\n",
       "      <td>UA</td>\n",
       "      <td>130.0</td>\n",
       "      <td>-4.0</td>\n",
       "      <td>-4</td>\n",
       "      <td>0.0</td>\n",
       "    </tr>\n",
       "  </tbody>\n",
       "</table>\n",
       "</div>"
      ],
      "text/plain": [
       "      Canceled  Month  DepartureTime UniqueCarrier  SchedElapsedTime  \\\n",
       "67         1.0      5           1540            UA            -127.0   \n",
       "106        1.0      3           1915            AA               0.0   \n",
       "134        1.0      3            515            DL             105.0   \n",
       "1670       0.0      3            949            UA             130.0   \n",
       "\n",
       "      ArrDelay  DepDelay  Distance  \n",
       "67         0.0         0     612.0  \n",
       "106        0.0         0     224.0  \n",
       "134        0.0         0    -439.0  \n",
       "1670      -4.0        -4       0.0  "
      ]
     },
     "execution_count": 7,
     "metadata": {},
     "output_type": "execute_result"
    }
   ],
   "source": [
    "data[(data.SchedElapsedTime <= 0) | (data.Distance <= 0)]"
   ]
  },
  {
   "cell_type": "code",
   "execution_count": 8,
   "metadata": {},
   "outputs": [
    {
     "data": {
      "text/plain": [
       "(5991, 8)"
      ]
     },
     "execution_count": 8,
     "metadata": {},
     "output_type": "execute_result"
    }
   ],
   "source": [
    "# Ah! Looks like some error in the entry, let's remove these 4 observations as well\n",
    "data = data[~((data.SchedElapsedTime <= 0) | (data.Distance <= 0))]\n",
    "data.shape"
   ]
  },
  {
   "cell_type": "code",
   "execution_count": 9,
   "metadata": {},
   "outputs": [
    {
     "data": {
      "text/plain": [
       "<matplotlib.axes._subplots.AxesSubplot at 0x218ba6fff98>"
      ]
     },
     "execution_count": 9,
     "metadata": {},
     "output_type": "execute_result"
    },
    {
     "data": {
      "image/png": "[encoded data removed]",
      "text/plain": [
       "<Figure size 432x288 with 1 Axes>"
      ]
     },
     "metadata": {
      "needs_background": "light"
     },
     "output_type": "display_data"
    }
   ],
   "source": [
    "%matplotlib inline\n",
    "data.Canceled.value_counts().plot.bar()"
   ]
  },
  {
   "cell_type": "code",
   "execution_count": 128,
   "metadata": {},
   "outputs": [
    {
     "data": {
      "text/plain": [
       "<matplotlib.axes._subplots.AxesSubplot at 0x1ff6a874cc0>"
      ]
     },
     "execution_count": 128,
     "metadata": {},
     "output_type": "execute_result"
    },
    {
     "data": {
      "image/png": "[encoded data removed]",
      "text/plain": [
       "<Figure size 432x288 with 1 Axes>"
      ]
     },
     "metadata": {
      "needs_background": "light"
     },
     "output_type": "display_data"
    }
   ],
   "source": [
    "data.Month.value_counts().plot.bar(color = 'C0')"
   ]
  },
  {
   "cell_type": "code",
   "execution_count": 10,
   "metadata": {},
   "outputs": [
    {
     "data": {
      "text/plain": [
       "<matplotlib.axes._subplots.AxesSubplot at 0x218ba9f15c0>"
      ]
     },
     "execution_count": 10,
     "metadata": {},
     "output_type": "execute_result"
    },
    {
     "data": {
      "image/png": "[encoded data removed]",
      "text/plain": [
       "<Figure size 432x288 with 1 Axes>"
      ]
     },
     "metadata": {
      "needs_background": "light"
     },
     "output_type": "display_data"
    }
   ],
   "source": [
    "data.UniqueCarrier.value_counts().plot.bar()"
   ]
  },
  {
   "cell_type": "code",
   "execution_count": 11,
   "metadata": {},
   "outputs": [
    {
     "name": "stderr",
     "output_type": "stream",
     "text": [
      "C:\\Users\\50502\\AppData\\Local\\Continuum\\anaconda3\\lib\\site-packages\\scipy\\stats\\stats.py:1713: FutureWarning: Using a non-tuple sequence for multidimensional indexing is deprecated; use `arr[tuple(seq)]` instead of `arr[seq]`. In the future this will be interpreted as an array index, `arr[np.array(seq)]`, which will result either in an error or a different result.\n",
      "  return np.add.reduce(sorted[indexer] * weights, axis=axis) / sumval\n"
     ]
    },
    {
     "data": {
      "text/plain": [
       "<matplotlib.axes._subplots.AxesSubplot at 0x218baa76550>"
      ]
     },
     "execution_count": 11,
     "metadata": {},
     "output_type": "execute_result"
    },
    {
     "data": {
      "image/png": "[encoded data removed]",
      "text/plain": [
       "<Figure size 432x288 with 1 Axes>"
      ]
     },
     "metadata": {
      "needs_background": "light"
     },
     "output_type": "display_data"
    }
   ],
   "source": [
    "sns.distplot(data.Distance)"
   ]
  },
  {
   "cell_type": "code",
   "execution_count": 131,
   "metadata": {},
   "outputs": [
    {
     "data": {
      "text/plain": [
       "<matplotlib.axes._subplots.AxesSubplot at 0x1ff6a9cb748>"
      ]
     },
     "execution_count": 131,
     "metadata": {},
     "output_type": "execute_result"
    },
    {
     "data": {
      "image/png": "[encoded data removed]",
      "text/plain": [
       "<Figure size 432x288 with 1 Axes>"
      ]
     },
     "metadata": {
      "needs_background": "light"
     },
     "output_type": "display_data"
    }
   ],
   "source": [
    "sns.distplot(data.SchedElapsedTime)"
   ]
  },
  {
   "cell_type": "code",
   "execution_count": 12,
   "metadata": {},
   "outputs": [
    {
     "data": {
      "text/plain": [
       "<matplotlib.axes._subplots.AxesSubplot at 0x218baba3940>"
      ]
     },
     "execution_count": 12,
     "metadata": {},
     "output_type": "execute_result"
    },
    {
     "data": {
      "image/png": "[encoded data removed]",
      "text/plain": [
       "<Figure size 432x288 with 1 Axes>"
      ]
     },
     "metadata": {
      "needs_background": "light"
     },
     "output_type": "display_data"
    }
   ],
   "source": [
    "sns.distplot(data.DepartureTime)"
   ]
  },
  {
   "cell_type": "markdown",
   "metadata": {},
   "source": [
    "### Few Observations:\n",
    "    * Target variable is highly imbalanced. I have following two ways to tackle this situations:\n",
    "        * Since collecting more data to balance the dataset is out of the scope, performance metric to measure model performance can not be accuracy. I'll use F1 metric to measure performance\n",
    "        * Or, we can oversample the under-represented class synthetically and proceed with newly balanced dataset.\n",
    "    * Month variable is not well distributed as well. Same goes with UniqueCarrier. But both of these are not alarmingly skewed to be very worried\n",
    "    * Distance and SchedElapsedTime are skewed and will impact the model. Hence, we'll apply some transformations to transform their distribution to more normally-distributed like.\n",
    "    * Scale DepartureTime?"
   ]
  },
  {
   "cell_type": "code",
   "execution_count": 13,
   "metadata": {},
   "outputs": [
    {
     "data": {
      "text/html": [
       "<div>\n",
       "<style scoped>\n",
       "    .dataframe tbody tr th:only-of-type {\n",
       "        vertical-align: middle;\n",
       "    }\n",
       "\n",
       "    .dataframe tbody tr th {\n",
       "        vertical-align: top;\n",
       "    }\n",
       "\n",
       "    .dataframe thead th {\n",
       "        text-align: right;\n",
       "    }\n",
       "</style>\n",
       "<table border=\"1\" class=\"dataframe\">\n",
       "  <thead>\n",
       "    <tr style=\"text-align: right;\">\n",
       "      <th></th>\n",
       "      <th>Canceled</th>\n",
       "      <th>Month</th>\n",
       "      <th>DepartureTime</th>\n",
       "      <th>SchedElapsedTime</th>\n",
       "      <th>Distance</th>\n",
       "      <th>UniqueCarrier_AA</th>\n",
       "      <th>UniqueCarrier_DL</th>\n",
       "      <th>UniqueCarrier_UA</th>\n",
       "    </tr>\n",
       "  </thead>\n",
       "  <tbody>\n",
       "    <tr>\n",
       "      <th>0</th>\n",
       "      <td>1.0</td>\n",
       "      <td>12</td>\n",
       "      <td>814</td>\n",
       "      <td>134.0</td>\n",
       "      <td>679.0</td>\n",
       "      <td>0</td>\n",
       "      <td>0</td>\n",
       "      <td>1</td>\n",
       "    </tr>\n",
       "    <tr>\n",
       "      <th>1</th>\n",
       "      <td>1.0</td>\n",
       "      <td>12</td>\n",
       "      <td>830</td>\n",
       "      <td>90.0</td>\n",
       "      <td>214.0</td>\n",
       "      <td>0</td>\n",
       "      <td>1</td>\n",
       "      <td>0</td>\n",
       "    </tr>\n",
       "    <tr>\n",
       "      <th>2</th>\n",
       "      <td>1.0</td>\n",
       "      <td>1</td>\n",
       "      <td>1835</td>\n",
       "      <td>213.0</td>\n",
       "      <td>1605.0</td>\n",
       "      <td>0</td>\n",
       "      <td>0</td>\n",
       "      <td>1</td>\n",
       "    </tr>\n",
       "  </tbody>\n",
       "</table>\n",
       "</div>"
      ],
      "text/plain": [
       "   Canceled  Month  DepartureTime  SchedElapsedTime  Distance  \\\n",
       "0       1.0     12            814             134.0     679.0   \n",
       "1       1.0     12            830              90.0     214.0   \n",
       "2       1.0      1           1835             213.0    1605.0   \n",
       "\n",
       "   UniqueCarrier_AA  UniqueCarrier_DL  UniqueCarrier_UA  \n",
       "0                 0                 0                 1  \n",
       "1                 0                 1                 0  \n",
       "2                 0                 0                 1  "
      ]
     },
     "execution_count": 13,
     "metadata": {},
     "output_type": "execute_result"
    }
   ],
   "source": [
    "#Let's first remove the unnecessary fields and one-hot encode UniqueCarrier\n",
    "data.drop(columns = ['ArrDelay', 'DepDelay'], inplace = True)\n",
    "data = pd.get_dummies(data)\n",
    "data.head(3)"
   ]
  },
  {
   "cell_type": "code",
   "execution_count": 14,
   "metadata": {},
   "outputs": [
    {
     "data": {
      "text/html": [
       "<div>\n",
       "<style scoped>\n",
       "    .dataframe tbody tr th:only-of-type {\n",
       "        vertical-align: middle;\n",
       "    }\n",
       "\n",
       "    .dataframe tbody tr th {\n",
       "        vertical-align: top;\n",
       "    }\n",
       "\n",
       "    .dataframe thead th {\n",
       "        text-align: right;\n",
       "    }\n",
       "</style>\n",
       "<table border=\"1\" class=\"dataframe\">\n",
       "  <thead>\n",
       "    <tr style=\"text-align: right;\">\n",
       "      <th></th>\n",
       "      <th>Canceled</th>\n",
       "      <th>Month</th>\n",
       "      <th>DepartureTime</th>\n",
       "      <th>SchedElapsedTime</th>\n",
       "      <th>Distance</th>\n",
       "      <th>UniqueCarrier_AA</th>\n",
       "      <th>UniqueCarrier_DL</th>\n",
       "      <th>UniqueCarrier_UA</th>\n",
       "    </tr>\n",
       "  </thead>\n",
       "  <tbody>\n",
       "    <tr>\n",
       "      <th>Canceled</th>\n",
       "      <td>1.000000</td>\n",
       "      <td>-0.135623</td>\n",
       "      <td>0.012210</td>\n",
       "      <td>-0.069099</td>\n",
       "      <td>-0.071272</td>\n",
       "      <td>0.072728</td>\n",
       "      <td>-0.092018</td>\n",
       "      <td>0.012096</td>\n",
       "    </tr>\n",
       "    <tr>\n",
       "      <th>Month</th>\n",
       "      <td>-0.135623</td>\n",
       "      <td>1.000000</td>\n",
       "      <td>-0.008981</td>\n",
       "      <td>-0.020532</td>\n",
       "      <td>-0.017147</td>\n",
       "      <td>-0.031864</td>\n",
       "      <td>0.054316</td>\n",
       "      <td>-0.018964</td>\n",
       "    </tr>\n",
       "    <tr>\n",
       "      <th>DepartureTime</th>\n",
       "      <td>0.012210</td>\n",
       "      <td>-0.008981</td>\n",
       "      <td>1.000000</td>\n",
       "      <td>-0.016683</td>\n",
       "      <td>-0.017879</td>\n",
       "      <td>-0.004010</td>\n",
       "      <td>-0.008791</td>\n",
       "      <td>0.012866</td>\n",
       "    </tr>\n",
       "    <tr>\n",
       "      <th>SchedElapsedTime</th>\n",
       "      <td>-0.069099</td>\n",
       "      <td>-0.020532</td>\n",
       "      <td>-0.016683</td>\n",
       "      <td>1.000000</td>\n",
       "      <td>0.931567</td>\n",
       "      <td>0.019447</td>\n",
       "      <td>-0.071231</td>\n",
       "      <td>0.048741</td>\n",
       "    </tr>\n",
       "    <tr>\n",
       "      <th>Distance</th>\n",
       "      <td>-0.071272</td>\n",
       "      <td>-0.017147</td>\n",
       "      <td>-0.017879</td>\n",
       "      <td>0.931567</td>\n",
       "      <td>1.000000</td>\n",
       "      <td>0.036572</td>\n",
       "      <td>-0.084049</td>\n",
       "      <td>0.042954</td>\n",
       "    </tr>\n",
       "    <tr>\n",
       "      <th>UniqueCarrier_AA</th>\n",
       "      <td>0.072728</td>\n",
       "      <td>-0.031864</td>\n",
       "      <td>-0.004010</td>\n",
       "      <td>0.019447</td>\n",
       "      <td>0.036572</td>\n",
       "      <td>1.000000</td>\n",
       "      <td>-0.524694</td>\n",
       "      <td>-0.556458</td>\n",
       "    </tr>\n",
       "    <tr>\n",
       "      <th>UniqueCarrier_DL</th>\n",
       "      <td>-0.092018</td>\n",
       "      <td>0.054316</td>\n",
       "      <td>-0.008791</td>\n",
       "      <td>-0.071231</td>\n",
       "      <td>-0.084049</td>\n",
       "      <td>-0.524694</td>\n",
       "      <td>1.000000</td>\n",
       "      <td>-0.415346</td>\n",
       "    </tr>\n",
       "    <tr>\n",
       "      <th>UniqueCarrier_UA</th>\n",
       "      <td>0.012096</td>\n",
       "      <td>-0.018964</td>\n",
       "      <td>0.012866</td>\n",
       "      <td>0.048741</td>\n",
       "      <td>0.042954</td>\n",
       "      <td>-0.556458</td>\n",
       "      <td>-0.415346</td>\n",
       "      <td>1.000000</td>\n",
       "    </tr>\n",
       "  </tbody>\n",
       "</table>\n",
       "</div>"
      ],
      "text/plain": [
       "                  Canceled     Month  DepartureTime  SchedElapsedTime  \\\n",
       "Canceled          1.000000 -0.135623       0.012210         -0.069099   \n",
       "Month            -0.135623  1.000000      -0.008981         -0.020532   \n",
       "DepartureTime     0.012210 -0.008981       1.000000         -0.016683   \n",
       "SchedElapsedTime -0.069099 -0.020532      -0.016683          1.000000   \n",
       "Distance         -0.071272 -0.017147      -0.017879          0.931567   \n",
       "UniqueCarrier_AA  0.072728 -0.031864      -0.004010          0.019447   \n",
       "UniqueCarrier_DL -0.092018  0.054316      -0.008791         -0.071231   \n",
       "UniqueCarrier_UA  0.012096 -0.018964       0.012866          0.048741   \n",
       "\n",
       "                  Distance  UniqueCarrier_AA  UniqueCarrier_DL  \\\n",
       "Canceled         -0.071272          0.072728         -0.092018   \n",
       "Month            -0.017147         -0.031864          0.054316   \n",
       "DepartureTime    -0.017879         -0.004010         -0.008791   \n",
       "SchedElapsedTime  0.931567          0.019447         -0.071231   \n",
       "Distance          1.000000          0.036572         -0.084049   \n",
       "UniqueCarrier_AA  0.036572          1.000000         -0.524694   \n",
       "UniqueCarrier_DL -0.084049         -0.524694          1.000000   \n",
       "UniqueCarrier_UA  0.042954         -0.556458         -0.415346   \n",
       "\n",
       "                  UniqueCarrier_UA  \n",
       "Canceled                  0.012096  \n",
       "Month                    -0.018964  \n",
       "DepartureTime             0.012866  \n",
       "SchedElapsedTime          0.048741  \n",
       "Distance                  0.042954  \n",
       "UniqueCarrier_AA         -0.556458  \n",
       "UniqueCarrier_DL         -0.415346  \n",
       "UniqueCarrier_UA          1.000000  "
      ]
     },
     "execution_count": 14,
     "metadata": {},
     "output_type": "execute_result"
    }
   ],
   "source": [
    "#Let's check correlation between variables before performing more transformations:\n",
    "data.corr()"
   ]
  },
  {
   "cell_type": "code",
   "execution_count": 15,
   "metadata": {},
   "outputs": [
    {
     "data": {
      "image/png": "[encoded data removed]",
      "text/plain": [
       "<Figure size 720x720 with 2 Axes>"
      ]
     },
     "metadata": {
      "needs_background": "light"
     },
     "output_type": "display_data"
    }
   ],
   "source": [
    "fig, ax = plt.subplots(figsize=(10,10))\n",
    "sns.heatmap(data.corr(), fmt = '.2f', annot = True)\n",
    "plt.show()"
   ]
  },
  {
   "cell_type": "markdown",
   "metadata": {},
   "source": [
    "### More observations:\n",
    "    * From correlation matrix, Distance and SchedElapsedTime is strongly correlated: 0.93. We can remove one of the variables to avoid multi-collinearity. We'll need to perform t-test to check which one of the variable to keep \n",
    "    * As we saw earlier, since Distance and SchedElapsedTime are not normally-distributed, we'll need to apply transformation as t-test also require variables to be normally distributed.\n",
    "    * On a side note, we see that AA is more likely to be cancelled than others, but we have more AA records as well. It'll be interesting to see which airline is more likely to be cancelled"
   ]
  },
  {
   "cell_type": "code",
   "execution_count": 16,
   "metadata": {},
   "outputs": [
    {
     "data": {
      "text/plain": [
       "<matplotlib.axes._subplots.AxesSubplot at 0x218bac59198>"
      ]
     },
     "execution_count": 16,
     "metadata": {},
     "output_type": "execute_result"
    },
    {
     "data": {
      "image/png": "[encoded data removed]",
      "text/plain": [
       "<Figure size 432x288 with 1 Axes>"
      ]
     },
     "metadata": {
      "needs_background": "light"
     },
     "output_type": "display_data"
    }
   ],
   "source": [
    "# Both Distance and SchedElapsedTime are right-skewed, let's try log transformation:\n",
    "# Let's apply BoxCox transformation:\n",
    "data['SETtrans'] = np.log(data.SchedElapsedTime)\n",
    "data['disttrans'] = np.log(data.Distance)\n",
    "\n",
    "#Plot log transformed SchedElapsedTime to check distribution:\n",
    "sns.distplot(data.SETtrans)"
   ]
  },
  {
   "cell_type": "code",
   "execution_count": 13,
   "metadata": {},
   "outputs": [
    {
     "data": {
      "text/plain": [
       "<matplotlib.axes._subplots.AxesSubplot at 0x27eb2535c88>"
      ]
     },
     "execution_count": 13,
     "metadata": {},
     "output_type": "execute_result"
    },
    {
     "data": {
      "image/png": "[encoded data removed]",
      "text/plain": [
       "<Figure size 432x288 with 1 Axes>"
      ]
     },
     "metadata": {
      "needs_background": "light"
     },
     "output_type": "display_data"
    }
   ],
   "source": [
    "#Plot log transformed Distance to check distribution:\n",
    "sns.distplot(data.disttrans)"
   ]
  },
  {
   "cell_type": "markdown",
   "metadata": {},
   "source": [
    "#### Now, let's check which one of the two variables (Distance and SchedElapsedTime) has more significance"
   ]
  },
  {
   "cell_type": "code",
   "execution_count": 17,
   "metadata": {},
   "outputs": [
    {
     "name": "stdout",
     "output_type": "stream",
     "text": [
      "Variance of column Distance:  0.0018522303997915057\n",
      "Variance of column ShedElapsedTime:  0.019153407649160258\n"
     ]
    }
   ],
   "source": [
    "#Let's check how both columns are distributed by calculating the variance, but first let's scale them:\n",
    "#More the variance, the better the variable will generalize the model\n",
    "\n",
    "from sklearn.preprocessing import MinMaxScaler\n",
    "scaler = MinMaxScaler()\n",
    "Distscaled = scaler.fit_transform(data[['Distance']])\n",
    "SETscaled = scaler.fit_transform(data[['SchedElapsedTime']])\n",
    "\n",
    "print('Variance of column Distance: ', np.var(Distscaled))\n",
    "print('Variance of column ShedElapsedTime: ', np.var(SETscaled))"
   ]
  },
  {
   "cell_type": "code",
   "execution_count": 18,
   "metadata": {
    "scrolled": false
   },
   "outputs": [
    {
     "name": "stderr",
     "output_type": "stream",
     "text": [
      "C:\\Users\\50502\\AppData\\Local\\Continuum\\anaconda3\\lib\\site-packages\\scipy\\stats\\stats.py:1713: FutureWarning: Using a non-tuple sequence for multidimensional indexing is deprecated; use `arr[tuple(seq)]` instead of `arr[seq]`. In the future this will be interpreted as an array index, `arr[np.array(seq)]`, which will result either in an error or a different result.\n",
      "  return np.add.reduce(sorted[indexer] * weights, axis=axis) / sumval\n"
     ]
    },
    {
     "data": {
      "text/plain": [
       "<matplotlib.axes._subplots.AxesSubplot at 0x218badf5dd8>"
      ]
     },
     "execution_count": 18,
     "metadata": {},
     "output_type": "execute_result"
    },
    {
     "data": {
      "image/png": "[encoded data removed]",
      "text/plain": [
       "<Figure size 432x288 with 1 Axes>"
      ]
     },
     "metadata": {
      "needs_background": "light"
     },
     "output_type": "display_data"
    }
   ],
   "source": [
    "#Next, let's scale DepartureTime\n",
    "from sklearn import preprocessing\n",
    "scaler =  preprocessing.RobustScaler()\n",
    "data['DT_scaled'] = scaler.fit_transform(data[['DepartureTime']])\n",
    "sns.distplot(data.DT_scaled)"
   ]
  },
  {
   "cell_type": "code",
   "execution_count": 228,
   "metadata": {},
   "outputs": [
    {
     "data": {
      "text/plain": [
       "<matplotlib.axes._subplots.AxesSubplot at 0x1ff7f6410f0>"
      ]
     },
     "execution_count": 228,
     "metadata": {},
     "output_type": "execute_result"
    },
    {
     "data": {
      "image/png": "[encoded data removed]",
      "text/plain": [
       "<Figure size 432x288 with 1 Axes>"
      ]
     },
     "metadata": {
      "needs_background": "light"
     },
     "output_type": "display_data"
    }
   ],
   "source": [
    "data['DT_log'] = np.log(data.DepartureTime)\n",
    "sns.distplot(data.DT_log)"
   ]
  },
  {
   "cell_type": "markdown",
   "metadata": {},
   "source": [
    "### Now that we have all relelvant variables cleaned up and transformed, time to build our predictive model!"
   ]
  },
  {
   "cell_type": "code",
   "execution_count": 19,
   "metadata": {},
   "outputs": [
    {
     "data": {
      "text/plain": [
       "Index(['Canceled', 'Month', 'DepartureTime', 'SchedElapsedTime', 'Distance',\n",
       "       'UniqueCarrier_AA', 'UniqueCarrier_DL', 'UniqueCarrier_UA', 'SETtrans',\n",
       "       'disttrans', 'DT_scaled'],\n",
       "      dtype='object')"
      ]
     },
     "execution_count": 19,
     "metadata": {},
     "output_type": "execute_result"
    }
   ],
   "source": [
    "data.columns"
   ]
  },
  {
   "cell_type": "code",
   "execution_count": 20,
   "metadata": {},
   "outputs": [],
   "source": [
    "#note: I tried with the scaled DepartureTime, none of them made any significant impact on the models, \n",
    "# so I'm going with original DepartureTime  \n",
    "\n",
    "y = data['Canceled']\n",
    "X = data[['Month', 'DepartureTime', 'UniqueCarrier_AA', 'UniqueCarrier_DL', 'UniqueCarrier_UA', 'SETtrans']]\n",
    "\n",
    "X_train, X_test, y_train, y_test = train_test_split(X,y,test_size=0.15,random_state=62)"
   ]
  },
  {
   "cell_type": "code",
   "execution_count": 21,
   "metadata": {},
   "outputs": [
    {
     "name": "stdout",
     "output_type": "stream",
     "text": [
      "No of records in our training set:  5092\n",
      "No of records in our test set:  899\n"
     ]
    }
   ],
   "source": [
    "print('No of records in our training set: ', X_train.shape[0])\n",
    "print('No of records in our test set: ', X_test.shape[0])"
   ]
  },
  {
   "cell_type": "markdown",
   "metadata": {},
   "source": [
    "Since our problem is a binary classification problem, let's try few commonly used binary classification methods\n",
    "    Also to note: Our data set is highly imbalanced, so I'm using weights wherever required and F1 Score as our performance metric. More hyper-parameter tuning will follow depending on which classifier performs well with minimum change to default values"
   ]
  },
  {
   "cell_type": "code",
   "execution_count": 22,
   "metadata": {},
   "outputs": [
    {
     "name": "stdout",
     "output_type": "stream",
     "text": [
      "F1 score for RandomForestClassifier:  0.3565573770491803\n",
      "F1 score for AdaBoostClassifier:  0.08588957055214724\n",
      "F1 score for Logistic Regression:  0.33507853403141363\n"
     ]
    }
   ],
   "source": [
    "# Trying Random Forest classifier, I've manually provided weights depending on the frequency of the labels in our dataset:\n",
    "class_weight = dict({0:1.9, 1:12.5 })\n",
    "rfc = RandomForestClassifier(n_estimators= 1000, class_weight = class_weight, max_depth=8, random_state=62)\n",
    "rfc.fit(X_train, y_train)\n",
    "y_rfc = rfc.predict(X_test)\n",
    "print('F1 score for RandomForestClassifier: ', f1_score(y_test, y_rfc))\n",
    "\n",
    "\n",
    "ada = AdaBoostClassifier(n_estimators=10000, random_state=62)\n",
    "ada.fit(X_train, y_train)\n",
    "y_ada = ada.predict(X_test)\n",
    "print('F1 score for AdaBoostClassifier: ', f1_score(y_test, y_ada))\n",
    "\n",
    "logr = LogisticRegression(random_state=62, solver='liblinear', class_weight = 'balanced')\n",
    "logr.fit(X_train, y_train)\n",
    "y_hat = logr.predict(X_test)\n",
    "print('F1 score for Logistic Regression: ', f1_score(y_test, y_hat))"
   ]
  },
  {
   "cell_type": "markdown",
   "metadata": {},
   "source": [
    "Looks like we have a close competition between RandomForest and Logistic Regression. An F1 Score of ~0.34-0.38 is not very desirable, but we'll try to tweak the parameters and see if we can improve the performance of these classifiers"
   ]
  },
  {
   "cell_type": "code",
   "execution_count": 23,
   "metadata": {},
   "outputs": [
    {
     "name": "stdout",
     "output_type": "stream",
     "text": [
      "F1 score for RandomForestClassifier:  0.3532110091743119\n",
      "Wall time: 2min 12s\n"
     ]
    }
   ],
   "source": [
    "%%time\n",
    "class_weight = dict({0:1.9, 1:10.5 })\n",
    "rfc = RandomForestClassifier(n_estimators= 20000, class_weight = class_weight, max_depth=8, random_state=62)\n",
    "rfc.fit(X_train, y_train)\n",
    "y_rfc = rfc.predict(X_test)\n",
    "print('F1 score for RandomForestClassifier: ', f1_score(y_test, y_rfc))"
   ]
  },
  {
   "cell_type": "code",
   "execution_count": 24,
   "metadata": {},
   "outputs": [
    {
     "name": "stdout",
     "output_type": "stream",
     "text": [
      "F1 score for Logistic Regression with CV:  0.3344947735191638\n"
     ]
    }
   ],
   "source": [
    "kf = KFold(n_splits=9, random_state = 62)\n",
    "\n",
    "logrcv = LogisticRegressionCV(cv = kf, solver='liblinear', class_weight = 'balanced', random_state=62)\n",
    "logrcv.fit(X_train, y_train)\n",
    "y_hat = logrcv.predict(X_test)\n",
    "print('F1 score for Logistic Regression with CV: ', f1_score(y_test, y_hat))"
   ]
  },
  {
   "cell_type": "code",
   "execution_count": 25,
   "metadata": {},
   "outputs": [
    {
     "name": "stdout",
     "output_type": "stream",
     "text": [
      "F1 score for RandomForestClassifier:  0.3565573770491803\n",
      "Closer look at precision and recall: \n",
      "              precision    recall  f1-score   support\n",
      "\n",
      "         0.0       0.90      0.66      0.76       755\n",
      "         1.0       0.25      0.60      0.36       144\n",
      "\n",
      "    accuracy                           0.65       899\n",
      "   macro avg       0.58      0.63      0.56       899\n",
      "weighted avg       0.79      0.65      0.70       899\n",
      "\n"
     ]
    }
   ],
   "source": [
    "#Choosing not to spend too much time in tweaking the classifier, I'm proceeding with RandomForestClassifier:\n",
    "class_weight = dict({0:1.9, 1:12.5 })\n",
    "rfc = RandomForestClassifier(n_estimators= 1000, class_weight = class_weight, max_depth=8, random_state=62)\n",
    "rfc.fit(X_train, y_train)\n",
    "y_rfc = rfc.predict(X_test)\n",
    "print('F1 score for RandomForestClassifier: ', f1_score(y_test, y_rfc))\n",
    "print('Closer look at precision and recall: ')\n",
    "print(classification_report(y_test, y_rfc))"
   ]
  },
  {
   "cell_type": "code",
   "execution_count": 26,
   "metadata": {},
   "outputs": [
    {
     "data": {
      "text/plain": [
       "array([0.31324499, 0.27809246, 0.02506618, 0.04428773, 0.01695964,\n",
       "       0.322349  ])"
      ]
     },
     "execution_count": 26,
     "metadata": {},
     "output_type": "execute_result"
    }
   ],
   "source": [
    "#'Month', 'DepartureTime', 'UniqueCarrier_AA', 'UniqueCarrier_DL', 'UniqueCarrier_UA', 'SETtrans'\n",
    "rfc.feature_importances_"
   ]
  },
  {
   "cell_type": "code",
   "execution_count": 27,
   "metadata": {},
   "outputs": [
    {
     "name": "stdout",
     "output_type": "stream",
     "text": [
      "Confusion Matrix: \n"
     ]
    },
    {
     "data": {
      "text/plain": [
       "<matplotlib.axes._subplots.AxesSubplot at 0x218bdc8f908>"
      ]
     },
     "execution_count": 27,
     "metadata": {},
     "output_type": "execute_result"
    },
    {
     "data": {
      "image/png": "[encoded data removed]",
      "text/plain": [
       "<Figure size 432x288 with 2 Axes>"
      ]
     },
     "metadata": {
      "needs_background": "light"
     },
     "output_type": "display_data"
    }
   ],
   "source": [
    "print('Confusion Matrix: ')\n",
    "sns.heatmap(confusion_matrix(y_test, y_rfc), annot = True, fmt='d', linewidths=.5,  cmap=\"YlGnBu\")"
   ]
  },
  {
   "cell_type": "markdown",
   "metadata": {},
   "source": [
    "Observations:\n",
    "* The classifier's performance is not as impressive as it should be. Precision of 0.25 and an f1-score of 0.36 for label '1' shows that the performance towards the minority class is very poor.\n",
    "* Though, I would like to check few more algorightms and perform some hyperparameter tuning, for the purpose of this challenge, I'm going to move forward with RandomForestClassifier (despite it's poor performance!!)"
   ]
  },
  {
   "cell_type": "code",
   "execution_count": 28,
   "metadata": {},
   "outputs": [
    {
     "data": {
      "text/html": [
       "<div>\n",
       "<style scoped>\n",
       "    .dataframe tbody tr th:only-of-type {\n",
       "        vertical-align: middle;\n",
       "    }\n",
       "\n",
       "    .dataframe tbody tr th {\n",
       "        vertical-align: top;\n",
       "    }\n",
       "\n",
       "    .dataframe thead th {\n",
       "        text-align: right;\n",
       "    }\n",
       "</style>\n",
       "<table border=\"1\" class=\"dataframe\">\n",
       "  <thead>\n",
       "    <tr style=\"text-align: right;\">\n",
       "      <th></th>\n",
       "      <th>Month</th>\n",
       "      <th>DepartureTime</th>\n",
       "      <th>UniqueCarrier_AA</th>\n",
       "      <th>UniqueCarrier_DL</th>\n",
       "      <th>UniqueCarrier_UA</th>\n",
       "      <th>SETtrans</th>\n",
       "      <th>predictions</th>\n",
       "    </tr>\n",
       "  </thead>\n",
       "  <tbody>\n",
       "    <tr>\n",
       "      <th>0</th>\n",
       "      <td>12</td>\n",
       "      <td>814</td>\n",
       "      <td>0</td>\n",
       "      <td>0</td>\n",
       "      <td>1</td>\n",
       "      <td>4.897840</td>\n",
       "      <td>1.0</td>\n",
       "    </tr>\n",
       "    <tr>\n",
       "      <th>1</th>\n",
       "      <td>12</td>\n",
       "      <td>830</td>\n",
       "      <td>0</td>\n",
       "      <td>1</td>\n",
       "      <td>0</td>\n",
       "      <td>4.499810</td>\n",
       "      <td>1.0</td>\n",
       "    </tr>\n",
       "    <tr>\n",
       "      <th>2</th>\n",
       "      <td>1</td>\n",
       "      <td>1835</td>\n",
       "      <td>0</td>\n",
       "      <td>0</td>\n",
       "      <td>1</td>\n",
       "      <td>5.361292</td>\n",
       "      <td>0.0</td>\n",
       "    </tr>\n",
       "  </tbody>\n",
       "</table>\n",
       "</div>"
      ],
      "text/plain": [
       "   Month  DepartureTime  UniqueCarrier_AA  UniqueCarrier_DL  UniqueCarrier_UA  \\\n",
       "0     12            814                 0                 0                 1   \n",
       "1     12            830                 0                 1                 0   \n",
       "2      1           1835                 0                 0                 1   \n",
       "\n",
       "   SETtrans  predictions  \n",
       "0  4.897840          1.0  \n",
       "1  4.499810          1.0  \n",
       "2  5.361292          0.0  "
      ]
     },
     "execution_count": 28,
     "metadata": {},
     "output_type": "execute_result"
    }
   ],
   "source": [
    "#Let's run our RFC against the whole dataset -- Not a good practice, but since we don't have datapoints from \"future\",\n",
    "# I'm going to use the same dataset to predict Cancellations -- I know, I know, very bad practice indeed to use the \n",
    "# same dataset to train and to test. For the sake of the scope of this challenge:\n",
    "\n",
    "pred_df = X.copy()\n",
    "pred_df['predictions'] = rfc.predict(pred_df)\n",
    "pred_df.head(3)"
   ]
  },
  {
   "cell_type": "code",
   "execution_count": 29,
   "metadata": {},
   "outputs": [
    {
     "data": {
      "text/plain": [
       "0.4787201931783882"
      ]
     },
     "execution_count": 29,
     "metadata": {},
     "output_type": "execute_result"
    }
   ],
   "source": [
    "f1_score(y, pred_df.predictions)"
   ]
  },
  {
   "cell_type": "code",
   "execution_count": 30,
   "metadata": {},
   "outputs": [
    {
     "data": {
      "text/html": [
       "<div>\n",
       "<style scoped>\n",
       "    .dataframe tbody tr th:only-of-type {\n",
       "        vertical-align: middle;\n",
       "    }\n",
       "\n",
       "    .dataframe tbody tr th {\n",
       "        vertical-align: top;\n",
       "    }\n",
       "\n",
       "    .dataframe thead th {\n",
       "        text-align: right;\n",
       "    }\n",
       "</style>\n",
       "<table border=\"1\" class=\"dataframe\">\n",
       "  <thead>\n",
       "    <tr style=\"text-align: right;\">\n",
       "      <th></th>\n",
       "      <th>Month</th>\n",
       "      <th>DepartureTime</th>\n",
       "      <th>UniqueCarrier_AA</th>\n",
       "      <th>UniqueCarrier_DL</th>\n",
       "      <th>UniqueCarrier_UA</th>\n",
       "      <th>SETtrans</th>\n",
       "      <th>predictions</th>\n",
       "      <th>UniqueCarrier</th>\n",
       "    </tr>\n",
       "  </thead>\n",
       "  <tbody>\n",
       "    <tr>\n",
       "      <th>0</th>\n",
       "      <td>12</td>\n",
       "      <td>814</td>\n",
       "      <td>0</td>\n",
       "      <td>0</td>\n",
       "      <td>1</td>\n",
       "      <td>4.897840</td>\n",
       "      <td>1.0</td>\n",
       "      <td>UA</td>\n",
       "    </tr>\n",
       "    <tr>\n",
       "      <th>1</th>\n",
       "      <td>12</td>\n",
       "      <td>830</td>\n",
       "      <td>0</td>\n",
       "      <td>1</td>\n",
       "      <td>0</td>\n",
       "      <td>4.499810</td>\n",
       "      <td>1.0</td>\n",
       "      <td>DL</td>\n",
       "    </tr>\n",
       "    <tr>\n",
       "      <th>2</th>\n",
       "      <td>1</td>\n",
       "      <td>1835</td>\n",
       "      <td>0</td>\n",
       "      <td>0</td>\n",
       "      <td>1</td>\n",
       "      <td>5.361292</td>\n",
       "      <td>0.0</td>\n",
       "      <td>UA</td>\n",
       "    </tr>\n",
       "    <tr>\n",
       "      <th>3</th>\n",
       "      <td>4</td>\n",
       "      <td>1730</td>\n",
       "      <td>1</td>\n",
       "      <td>0</td>\n",
       "      <td>0</td>\n",
       "      <td>4.382027</td>\n",
       "      <td>1.0</td>\n",
       "      <td>AA</td>\n",
       "    </tr>\n",
       "    <tr>\n",
       "      <th>4</th>\n",
       "      <td>7</td>\n",
       "      <td>1442</td>\n",
       "      <td>0</td>\n",
       "      <td>0</td>\n",
       "      <td>1</td>\n",
       "      <td>4.634729</td>\n",
       "      <td>1.0</td>\n",
       "      <td>UA</td>\n",
       "    </tr>\n",
       "  </tbody>\n",
       "</table>\n",
       "</div>"
      ],
      "text/plain": [
       "   Month  DepartureTime  UniqueCarrier_AA  UniqueCarrier_DL  UniqueCarrier_UA  \\\n",
       "0     12            814                 0                 0                 1   \n",
       "1     12            830                 0                 1                 0   \n",
       "2      1           1835                 0                 0                 1   \n",
       "3      4           1730                 1                 0                 0   \n",
       "4      7           1442                 0                 0                 1   \n",
       "\n",
       "   SETtrans  predictions UniqueCarrier  \n",
       "0  4.897840          1.0            UA  \n",
       "1  4.499810          1.0            DL  \n",
       "2  5.361292          0.0            UA  \n",
       "3  4.382027          1.0            AA  \n",
       "4  4.634729          1.0            UA  "
      ]
     },
     "execution_count": 30,
     "metadata": {},
     "output_type": "execute_result"
    }
   ],
   "source": [
    "pred_df['UniqueCarrier'] = (pred_df.iloc[:, 2:5] == 1).idxmax(1)\n",
    "pred_df['UniqueCarrier'] = [x[len('UniqueCarrier_'):] for x in pred_df['UniqueCarrier']]\n",
    "pred_df.head()"
   ]
  },
  {
   "cell_type": "code",
   "execution_count": 31,
   "metadata": {
    "scrolled": true
   },
   "outputs": [
    {
     "data": {
      "text/plain": [
       "<matplotlib.axes._subplots.AxesSubplot at 0x218c6f53be0>"
      ]
     },
     "execution_count": 31,
     "metadata": {},
     "output_type": "execute_result"
    },
    {
     "data": {
      "image/png": "[encoded data removed]",
      "text/plain": [
       "<Figure size 432x288 with 1 Axes>"
      ]
     },
     "metadata": {
      "needs_background": "light"
     },
     "output_type": "display_data"
    }
   ],
   "source": [
    "cancellations = pred_df.groupby(['UniqueCarrier', 'predictions']).size().unstack()\n",
    "cancellations.rename(columns={0.0: 'Scheduled', 1.0: 'Cancelled'}, inplace = True)\n",
    "cancellations['Percentage_cancelled'] = cancellations.Cancelled*100/(cancellations.Cancelled+cancellations.Scheduled)\n",
    "cancellations[['Scheduled', 'Cancelled']].plot.bar()"
   ]
  },
  {
   "cell_type": "code",
   "execution_count": 32,
   "metadata": {},
   "outputs": [
    {
     "data": {
      "text/html": [
       "<div>\n",
       "<style scoped>\n",
       "    .dataframe tbody tr th:only-of-type {\n",
       "        vertical-align: middle;\n",
       "    }\n",
       "\n",
       "    .dataframe tbody tr th {\n",
       "        vertical-align: top;\n",
       "    }\n",
       "\n",
       "    .dataframe thead th {\n",
       "        text-align: right;\n",
       "    }\n",
       "</style>\n",
       "<table border=\"1\" class=\"dataframe\">\n",
       "  <thead>\n",
       "    <tr style=\"text-align: right;\">\n",
       "      <th>predictions</th>\n",
       "      <th>Scheduled</th>\n",
       "      <th>Cancelled</th>\n",
       "      <th>Percentage_cancelled</th>\n",
       "    </tr>\n",
       "    <tr>\n",
       "      <th>UniqueCarrier</th>\n",
       "      <th></th>\n",
       "      <th></th>\n",
       "      <th></th>\n",
       "    </tr>\n",
       "  </thead>\n",
       "  <tbody>\n",
       "    <tr>\n",
       "      <th>AA</th>\n",
       "      <td>1319</td>\n",
       "      <td>1154</td>\n",
       "      <td>46.663971</td>\n",
       "    </tr>\n",
       "    <tr>\n",
       "      <th>DL</th>\n",
       "      <td>1395</td>\n",
       "      <td>291</td>\n",
       "      <td>17.259786</td>\n",
       "    </tr>\n",
       "    <tr>\n",
       "      <th>UA</th>\n",
       "      <td>960</td>\n",
       "      <td>872</td>\n",
       "      <td>47.598253</td>\n",
       "    </tr>\n",
       "  </tbody>\n",
       "</table>\n",
       "</div>"
      ],
      "text/plain": [
       "predictions    Scheduled  Cancelled  Percentage_cancelled\n",
       "UniqueCarrier                                            \n",
       "AA                  1319       1154             46.663971\n",
       "DL                  1395        291             17.259786\n",
       "UA                   960        872             47.598253"
      ]
     },
     "execution_count": 32,
     "metadata": {},
     "output_type": "execute_result"
    }
   ],
   "source": [
    "cancellations"
   ]
  },
  {
   "cell_type": "markdown",
   "metadata": {},
   "source": [
    "## Conclusion:\n",
    "\n",
    "Clearly, DL leads the pack with only ~17% of their flights cancelled in comparison to AA and UA with over ~46% each."
   ]
  },
  {
   "cell_type": "markdown",
   "metadata": {},
   "source": [
    "### Method 2: Over-sampling the imbalanced class "
   ]
  },
  {
   "cell_type": "code",
   "execution_count": 33,
   "metadata": {
    "scrolled": true
   },
   "outputs": [
    {
     "name": "stdout",
     "output_type": "stream",
     "text": [
      "Shape of the train set:  (4193, 6)\n",
      "Before over-sampling....\n",
      "No of \"Cancelled\" records:  672.0\n",
      "No of \"Scheduled\" records:  3521.0\n",
      "After over-sampling....\n",
      "Shape of the synthetically created dataset:  (7042, 6)\n",
      "No of \"Cancelled\" records:  3521.0\n",
      "No of \"Scheduled\" records:  3521.0\n"
     ]
    }
   ],
   "source": [
    "os = SMOTE(random_state=42)\n",
    "X2_train, X2_test, y2_train, y2_test = train_test_split(X, y, test_size=0.3, random_state=42)\n",
    "\n",
    "print('Shape of the train set: ', X2_train.shape)\n",
    "print('Before over-sampling....')\n",
    "print('No of \"Cancelled\" records: ', y2_train.sum())\n",
    "print('No of \"Scheduled\" records: ', (len(y2_train) - y2_train.sum()))\n",
    "\n",
    "columns = X2_train.columns\n",
    "\n",
    "#up-sampling and defining a new dataframe\n",
    "\n",
    "os_data_X,os_data_y=os.fit_sample(X2_train, y2_train)\n",
    "os_data_X = pd.DataFrame(data=os_data_X,columns=columns )\n",
    "os_data_y= pd.Series(data=os_data_y)\n",
    "\n",
    "print('After over-sampling....')\n",
    "print('Shape of the synthetically created dataset: ', os_data_X.shape)\n",
    "print('No of \"Cancelled\" records: ', os_data_y.sum())\n",
    "print('No of \"Scheduled\" records: ', (len(os_data_y)-os_data_y.sum()))"
   ]
  },
  {
   "cell_type": "code",
   "execution_count": 34,
   "metadata": {},
   "outputs": [
    {
     "name": "stdout",
     "output_type": "stream",
     "text": [
      "F1 score for Logistic Regression:  0.3475935828877005\n"
     ]
    }
   ],
   "source": [
    "#Now, perform logisitc regression on balanced dataset:\n",
    "\n",
    "logr2 = LogisticRegression(random_state=62, solver='liblinear')\n",
    "logr2.fit(os_data_X, os_data_y)\n",
    "y2_hat = logr2.predict(X2_test)\n",
    "print('F1 score for Logistic Regression: ', f1_score(y2_test, y2_hat))"
   ]
  },
  {
   "cell_type": "markdown",
   "metadata": {},
   "source": [
    "Not going to spend time here, over-sampling doesn't seem to help that much"
   ]
  },
  {
   "cell_type": "code",
   "execution_count": null,
   "metadata": {},
   "outputs": [],
   "source": []
  }
 ],
 "metadata": {
  "kernelspec": {
   "display_name": "Python 3",
   "language": "python",
   "name": "python3"
  },
  "language_info": {
   "codemirror_mode": {
    "name": "ipython",
    "version": 3
   },
   "file_extension": ".py",
   "mimetype": "text/x-python",
   "name": "python",
   "nbconvert_exporter": "python",
   "pygments_lexer": "ipython3",
   "version": "3.7.3"
  }
 },
 "nbformat": 4,
 "nbformat_minor": 2
}
